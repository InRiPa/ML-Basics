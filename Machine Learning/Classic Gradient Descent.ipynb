{
 "cells": [
  {
   "cell_type": "markdown",
   "metadata": {},
   "source": [
    "# Machine Learning Algorithm: Gradient Descent\n",
    "\n",
    "This notebook is about how the Gradient Descent algorithm works.\n",
    "\n",
    "*Notice: The capital letter **X** describes a set of data instances, while the lowercase **x** describes one single instance.*\n",
    "\n",
    "Our starting point is the equation: $ y = a*x + b $\n",
    "\n",
    "Now let's say we have some data X and want to know which *linear function* represents it in the best manner.\n",
    "That said, our question is: What is *a* and *b* given dataset *X*. \n",
    "\n",
    "One way of solving this is the numerical method. The other way consists of using machine learning algorithms like Gradient Descent. (We won't discuss pro's and con's right now)\n",
    "\n"
   ]
  },
  {
   "cell_type": "code",
   "execution_count": 2,
   "metadata": {
    "collapsed": true
   },
   "outputs": [],
   "source": [
    "import numpy as np\n",
    "import pandas as pd\n",
    "import matplotlib.pyplot as plt\n",
    "%matplotlib inline"
   ]
  },
  {
   "cell_type": "markdown",
   "metadata": {},
   "source": [
    "## Generate some Synthetic Data\n",
    "\n",
    "In order to demonstrate gradient descent we need some data. Artifical ones are easy to get and perfect to demonstrate the concept. Therefore, following are two methods for creating data:\n",
    "    * gen_Data() - generates a certain amount of correlating data (samples) between -1 and 10\n",
    "    * gen_Data_simple() - generate data which follow the function f(x) = x + 2"
   ]
  },
  {
   "cell_type": "code",
   "execution_count": 3,
   "metadata": {
    "collapsed": false
   },
   "outputs": [],
   "source": [
    "def gen_Data(samples=1000, noiseFactor=5):\n",
    "    pure = np.linspace(-1, 10, samples)\n",
    "    noise = np.random.normal(0, noiseFactor, samples)\n",
    "    data = pure + noise\n",
    "    return data, np.arange(0,samples)\n",
    "\n",
    "def gen_Data_simple(samples=10):\n",
    "    x = np.arange(0,10)\n",
    "    y = np.arange(2,12)\n",
    "    return x,y\n",
    "    \n",
    "    "
   ]
  },
  {
   "cell_type": "code",
   "execution_count": 4,
   "metadata": {
    "collapsed": false
   },
   "outputs": [],
   "source": [
    "## Get a new set of data \n",
    "lSamples = 10\n",
    "lNoise = 0.8\n",
    "\n",
    "# Get a set of new data \n",
    "X,y = gen_Data_simple(samples=lSamples)   # Simple dataset where you get a nearly perfect fit\n",
    "#X,y = gen_Data(samples=lSamples, noiseFactor=lNoise) # synthetic dataset with noise\n",
    "\n"
   ]
  },
  {
   "cell_type": "code",
   "execution_count": 5,
   "metadata": {
    "collapsed": false
   },
   "outputs": [
    {
     "name": "stdout",
     "output_type": "stream",
     "text": [
      "First 10 entries of the data set \n",
      "[ X  Y ]\n",
      "[[ 0  2]\n",
      " [ 1  3]\n",
      " [ 2  4]\n",
      " [ 3  5]\n",
      " [ 4  6]\n",
      " [ 5  7]\n",
      " [ 6  8]\n",
      " [ 7  9]\n",
      " [ 8 10]\n",
      " [ 9 11]]\n"
     ]
    },
    {
     "data": {
      "text/plain": [
       "<matplotlib.text.Text at 0x7f4f05f96128>"
      ]
     },
     "execution_count": 5,
     "metadata": {},
     "output_type": "execute_result"
    },
    {
     "data": {
      "image/png": "[encoded data removed]",
      "text/plain": [
       "<matplotlib.figure.Figure at 0x7f4f05f7ec88>"
      ]
     },
     "metadata": {},
     "output_type": "display_data"
    }
   ],
   "source": [
    "print(\"First 10 entries of the data set \")\n",
    "print(\"[ X  Y ]\")\n",
    "print(np.concatenate((X.reshape(lSamples,1), y.reshape(lSamples,1)), axis=1)[0:10])\n",
    "\n",
    "\n",
    "ax1 = plt.subplot(111)\n",
    "ax1.plot(X,y,'*')\n",
    "ax1.set_title('Generated Data')\n",
    "ax1.set_xlabel('Input Value x')\n",
    "ax1.set_ylabel('Outcome y')\n",
    "#ax1.set_xlim([-1.5, lSamples+1])\n",
    "#ax1.set_ylim([-1.5, lSamples+1])\n"
   ]
  },
  {
   "cell_type": "markdown",
   "metadata": {},
   "source": [
    "##### Adding a Bias vector\n",
    "Adding a bias vector helps to solve the equations in a vectorized manner.\n",
    "So, you got a data vector $ X_{Nx1} $ which has to be multiplied with your equation vector \n",
    "consisting out of the  the slope (a) and the intercept term (b).\n",
    "\n",
    "$X = \\begin{bmatrix}x_0 \\\\ \\dots \\\\ x_N\\end{bmatrix}_{Nx1}\n",
    "W = \\begin{bmatrix}a & b\\end{bmatrix}_{2x1}$\n",
    "\n",
    "    * can't calculate vectorized since dimension mismatch\n",
    "    * add 1's vector for b since there is no X on b so it will be always b*1 \n",
    "    * doesn't change anything but the fact that we now can calucalte it vectorized\n",
    "\n",
    "$X = \\begin{bmatrix}1 & x_0 \\\\ \\dots & \\dots \\\\1 & x_N\\end{bmatrix}_{Nx2}\n",
    "W = \\begin{bmatrix}0.881 & 0.454\\end{bmatrix}_{2x1}$\n"
   ]
  },
  {
   "cell_type": "code",
   "execution_count": 5,
   "metadata": {
    "collapsed": false
   },
   "outputs": [
    {
     "name": "stdout",
     "output_type": "stream",
     "text": [
      "[[ 0.  1.]\n",
      " [ 1.  1.]\n",
      " [ 2.  1.]\n",
      " [ 3.  1.]\n",
      " [ 4.  1.]]\n"
     ]
    }
   ],
   "source": [
    "# y = mx + b\n",
    "# add bias vector (b) => X_0 => a*x_1 + b*X_0\n",
    "#X = np.c_[np.ones((X.shape[0])), X]\n",
    "X = np.c_[X, np.ones((X.shape[0]))]\n",
    "print(X[0:5])"
   ]
  },
  {
   "cell_type": "code",
   "execution_count": 6,
   "metadata": {
    "collapsed": false
   },
   "outputs": [
    {
     "name": "stdout",
     "output_type": "stream",
     "text": [
      "[INFO] starting training...\n",
      "initial weights:  [ 0.96454631  0.58045692]\n"
     ]
    }
   ],
   "source": [
    "# initialize our weight matrix such it has the same number of\n",
    "# columns as our input features + the intercept term\n",
    "print(\"[INFO] starting training...\")\n",
    "W = np.random.uniform(size=(X.shape[1],))\n",
    "print(\"initial weights: \", W)\n"
   ]
  },
  {
   "cell_type": "markdown",
   "metadata": {},
   "source": [
    "## Vectorizied version (working)"
   ]
  },
  {
   "cell_type": "code",
   "execution_count": 7,
   "metadata": {
    "collapsed": false
   },
   "outputs": [],
   "source": [
    "def costFunction(X,y,W):\n",
    "#          nx2 * 2x1\n",
    "    return (X.dot(W) - y) **2\n",
    "    \n",
    "    "
   ]
  },
  {
   "cell_type": "code",
   "execution_count": 8,
   "metadata": {
    "collapsed": false
   },
   "outputs": [
    {
     "name": "stdout",
     "output_type": "stream",
     "text": [
      "Final error:  0.0193383636927\n",
      "Weights [ 1.01303298  1.91827556]\n",
      "F(x) = 1.9182755599631613x + 1.0130329832132292 \n"
     ]
    },
    {
     "data": {
      "image/png": "[encoded data removed]",
      "text/plain": [
       "<matplotlib.figure.Figure at 0x7fb94d533668>"
      ]
     },
     "metadata": {},
     "output_type": "display_data"
    }
   ],
   "source": [
    "for i in range(0,2000):\n",
    "    alpha = 0.005\n",
    "    hypothesis = X.dot(W)\n",
    "    loss = hypothesis - y\n",
    "    cost = np.sum(loss **2) / (2*len(X))\n",
    "    X.shape # 10x2\n",
    "    loss.shape # 10x1\n",
    "    gradient = X.T.dot(loss) / len(X)  #  [ 0.16637658,  0.83162735]\n",
    "    #gradient = loss.T.dot(X) / len(X)  #  [ 0.16637658,  0.83162735]\n",
    "\n",
    "    W = W - alpha*gradient\n",
    "\n",
    "    # FINAL GUESS\n",
    "\n",
    "#W = [ 1.82217773, .9999]\n",
    "pred = X.dot(W)\n",
    "#pred = theta[0] * X[0:,1:2] + theta[1]\n",
    "\n",
    "\n",
    "\n",
    "plt.plot(X[0:,0:1],y, \"*\")\n",
    "plt.plot(X[0:,0:1],pred, \"-r\")\n",
    "plt.title(\"Final Guess: F(x) = {0:.3F}x + {1:.3F} \".format(W[0],W[1]))\n",
    "\n",
    "print(\"Final error: \", np.sum(costFunction(X=X, y=y,W=W)))\n",
    "print(\"Weights\", W)\n",
    "print(\"F(x) = {0}x + {1} \".format(W[1],W[0]))"
   ]
  },
  {
   "cell_type": "markdown",
   "metadata": {},
   "source": [
    "## Naive implementation (Step-by-Step)"
   ]
  },
  {
   "cell_type": "markdown",
   "metadata": {},
   "source": [
    "$$ E = \\sum_{i=1}^n (y_i - (ax_i + b) )^2 $$\n",
    "\n",
    "Using the chain rule: \n",
    "\\begin{align} \n",
    "\\frac{\\partial E}{\\partial a}\n",
    "   = 2 \\left( y_i - (ax_i + b)\\right) * -x_i  \n",
    "\\end{align}\n",
    "\n",
    "\n",
    "\\begin{align} \n",
    "\\frac{\\partial E}{\\partial b}\n",
    "   = 2 \\left( y_i - (ax_i + b)\\right) * -1 \\\\\n",
    "   = -2 \\left( y_i - (ax_i + b)\\right)\n",
    "\\end{align}\n"
   ]
  },
  {
   "cell_type": "code",
   "execution_count": 9,
   "metadata": {
    "collapsed": false
   },
   "outputs": [],
   "source": [
    "def calcError(data,y, weights):\n",
    "    sumError = 0\n",
    "    yp = weights[0] * data[0:,0:1] + weights[1] * data[0:,1:2]\n",
    "    #sumError = np.sum((yp - y) ** 2)\n",
    "    sumError = np.sum((y - yp)**2)\n",
    "    \n",
    "    return sumError #/ float(data.shape[0])"
   ]
  },
  {
   "cell_type": "code",
   "execution_count": 10,
   "metadata": {
    "collapsed": false
   },
   "outputs": [
    {
     "name": "stdout",
     "output_type": "stream",
     "text": [
      "[INFO] starting training...\n",
      "initial weights:  [ 0.08348356  0.82137752]\n"
     ]
    }
   ],
   "source": [
    "print(\"[INFO] starting training...\")\n",
    "W = np.random.uniform(size=(X.shape[1],))\n",
    "print(\"initial weights: \", W)\n",
    "\n",
    "y = y.reshape(y.shape[0],1)"
   ]
  },
  {
   "cell_type": "code",
   "execution_count": 11,
   "metadata": {
    "collapsed": false
   },
   "outputs": [
    {
     "name": "stdout",
     "output_type": "stream",
     "text": [
      "Current loss:  350.512608262\n"
     ]
    },
    {
     "data": {
      "text/plain": [
       "<matplotlib.text.Text at 0x7fb94ac63f98>"
      ]
     },
     "execution_count": 11,
     "metadata": {},
     "output_type": "execute_result"
    },
    {
     "data": {
      "image/png": "[encoded data removed]",
      "text/plain": [
       "<matplotlib.figure.Figure at 0x7fb94ace1eb8>"
      ]
     },
     "metadata": {},
     "output_type": "display_data"
    }
   ],
   "source": [
    "# FIRST GUESS\n",
    "\n",
    "# calculate first loss\n",
    "currentLoss = calcError(X,y,W)\n",
    "print(\"Current loss: \", currentLoss)\n",
    "\n",
    "# y = ax + b  W = [a , b] , 1x2\n",
    "pred = W[0] * X[0:,0:1] + W[1]\n",
    "plt.plot(X[0:,0:1], y,    \"*\")\n",
    "plt.plot(X[0:,0:1], pred, \"-r\")\n",
    "plt.title(\"First Guess: F(x) = {0:.3F}x + {1:.3F} \".format(W[0],W[1]))"
   ]
  },
  {
   "cell_type": "code",
   "execution_count": 12,
   "metadata": {
    "collapsed": false
   },
   "outputs": [
    {
     "name": "stdout",
     "output_type": "stream",
     "text": [
      "Gradients:\n",
      "a: -628.4903939331352 \n",
      "b: -106.05892920165498\n"
     ]
    }
   ],
   "source": [
    "# doing one step of gradient descent\n",
    "\n",
    "alpha = 0.0001 # learning rate\n",
    "N = float(len(X))\n",
    "\n",
    "gradient_a = (-2*X[0:,0:1]).T.dot( y - (W[0]*X[0:,0:1] + W[1]*X[0:,1:2]) )[0][0]\n",
    "gradient_b = -2 * np.sum( (y - (W[0]*X[0:,0:1] + W[1]*X[0:,1:2])) )\n",
    "\n",
    "   \n",
    "\n",
    "print(\"Gradients:\\na: {0} \\nb: {1}\".format(gradient_a, gradient_b))"
   ]
  },
  {
   "cell_type": "code",
   "execution_count": 13,
   "metadata": {
    "collapsed": false
   },
   "outputs": [
    {
     "name": "stdout",
     "output_type": "stream",
     "text": [
      "Weight adjustment:\n",
      "a: 0.08348356045037664 | 0.14633259984369018 \n",
      "b: 0.8213775178905569 | 0.8319834108107224\n"
     ]
    }
   ],
   "source": [
    "# calculating the new weights\n",
    "new_a = W[0] - (alpha * gradient_a)\n",
    "new_b = W[1] - (alpha * gradient_b)\n",
    "\n",
    "\n",
    "print(\"Weight adjustment:\\na: {0} | {1} \\nb: {2} | {3}\".format(W[0], new_a, W[1], new_b ))"
   ]
  },
  {
   "cell_type": "code",
   "execution_count": 14,
   "metadata": {
    "collapsed": false
   },
   "outputs": [
    {
     "name": "stdout",
     "output_type": "stream",
     "text": [
      "Current loss:  311.074607755\n"
     ]
    },
    {
     "data": {
      "text/plain": [
       "<matplotlib.text.Text at 0x7fb94abd6358>"
      ]
     },
     "execution_count": 14,
     "metadata": {},
     "output_type": "execute_result"
    },
    {
     "data": {
      "image/png": "[encoded data removed]",
      "text/plain": [
       "<matplotlib.figure.Figure at 0x7fb94ac5cb38>"
      ]
     },
     "metadata": {},
     "output_type": "display_data"
    }
   ],
   "source": [
    "# MAKE ANOTHER GUESS\n",
    "\n",
    "# Set new calculated weights as new W to use\n",
    "W = np.array([new_a,new_b])\n",
    "\n",
    "\n",
    "# calculate loss (compare it with the initial one. It should be less now.)\n",
    "currentLoss = calcError(X,y,W)\n",
    "print(\"Current loss: \", currentLoss)\n",
    "\n",
    "\n",
    "pred = W[0] * X[0:,0:1] + W[1]*X[0:,1:2]\n",
    "\n",
    "plt.plot(X[0:,0:1], y, \"*\")\n",
    "plt.plot(X[0:,0:1], pred, \"-r\")\n",
    "plt.title(\"Second Guess: F(x) = {0:.3F}x + {1:.3F} \".format(W[0],W[1]))"
   ]
  },
  {
   "cell_type": "code",
   "execution_count": 15,
   "metadata": {
    "collapsed": false,
    "scrolled": true
   },
   "outputs": [
    {
     "name": "stdout",
     "output_type": "stream",
     "text": [
      "Epoch (0) - Current loss: 276.11070738550643 Weights: 0.8420024505905077/0.20550379095530336\n",
      "Epoch (25) - Current loss: 16.304495113598716 Weights: 0.9745868079721686/0.9462015705713238\n",
      "Epoch (50) - Current loss: 3.4307384953747695 Weights: 1.0147890214387973/1.1088808385071034\n",
      "Epoch (75) - Current loss: 2.7233806506639096 Weights: 1.0343359486343962/1.143293180631224\n",
      "Epoch (100) - Current loss: 2.617397670249074 Weights: 1.0491494613414192/1.1492604785268752\n",
      "Epoch (125) - Current loss: 2.543020532370287 Weights: 1.0627655030089973/1.1489378334644798\n",
      "Epoch (150) - Current loss: 2.472126296965662 Weights: 1.0759709349899673/1.14724223453524\n",
      "Epoch (175) - Current loss: 2.403275945272158 Weights: 1.0889424318671412/1.1452646819960643\n",
      "Epoch (200) - Current loss: 2.3363464464907397 Weights: 1.1017212089864612/1.1432470036573992\n",
      "Epoch (225) - Current loss: 2.2712810496960474 Weights: 1.1143183884793038/1.1412425582571177\n",
      "Epoch (250) - Current loss: 2.208027680701665 Weights: 1.1267383856109339/1.1392628782985437\n",
      "Epoch (275) - Current loss: 2.1465358680732405 Weights: 1.1389840997612564/1.1373102173191674\n",
      "Epoch (300) - Current loss: 2.0867565534794243 Weights: 1.151058066944126/1.1353847736853862\n",
      "Epoch (325) - Current loss: 2.0286420451944718 Weights: 1.1629627159860738/1.1334862938512356\n",
      "Epoch (350) - Current loss: 1.9721459796874607 Weights: 1.1747004257572378/1.1316144281417937\n",
      "Epoch (375) - Current loss: 1.917223284615785 Weights: 1.1862735382406768/1.1297688096606806\n",
      "Epoch (400) - Current loss: 1.8638301428657198 Weights: 1.1976843617948834/1.127949071745856\n",
      "Epoch (425) - Current loss: 1.8119239575952781 Weights: 1.2089351722346022/1.1261548517870432\n",
      "Epoch (450) - Current loss: 1.761463318250595 Weights: 1.2200282134224256/1.1243857920169162\n",
      "Epoch (475) - Current loss: 1.7124079675287625 Weights: 1.2309656977468701/1.1226415396314022\n",
      "Epoch (500) - Current loss: 1.6647187692606917 Weights: 1.2417498065704002/1.1209217467618546\n",
      "Epoch (525) - Current loss: 1.6183576771884418 Weights: 1.252382690665979/1.1192260704151193\n",
      "Epoch (550) - Current loss: 1.5732877046120615 Weights: 1.262866470646352/1.1175541724072207\n",
      "Epoch (575) - Current loss: 1.5294728948817395 Weights: 1.2732032373870559/1.1159057192963802\n",
      "Epoch (600) - Current loss: 1.486878292711721 Weights: 1.2833950524434345/1.11428038231662\n",
      "Epoch (625) - Current loss: 1.445469916293134 Weights: 1.2934439484618008/1.1126778373122153\n",
      "Epoch (650) - Current loss: 1.4052147301834155 Weights: 1.3033519295848226/1.1110977646730495\n",
      "Epoch (675) - Current loss: 1.3660806189507766 Weights: 1.3131209718512307/1.1095398492708757\n",
      "Epoch (700) - Current loss: 1.3280363615526212 Weights: 1.322753023589917/1.1080037803964649\n",
      "Epoch (725) - Current loss: 1.291051606427543 Weights: 1.3322500058085056/1.1064892516976401\n",
      "Epoch (750) - Current loss: 1.255096847280932 Weights: 1.341613812576481/1.1049959611181763\n",
      "Epoch (775) - Current loss: 1.2201433995449997 Weights: 1.3508463114029352/1.1035236108375615\n",
      "Epoch (800) - Current loss: 1.186163377494323 Weights: 1.3599493436090249/1.102071907211596\n",
      "Epoch (825) - Current loss: 1.1531296719987334 Weights: 1.3689247246952012/1.1006405607138317\n",
      "Epoch (850) - Current loss: 1.1210159288957382 Weights: 1.377774244703293/1.099229285877827\n",
      "Epoch (875) - Current loss: 1.0897965279652906 Weights: 1.3864996685735103/1.0978378012402132\n",
      "Epoch (900) - Current loss: 1.0594465624900682 Weights: 1.395102736496442/1.096465829284562\n",
      "Epoch (925) - Current loss: 1.029941819384996 Weights: 1.4035851642601178/1.0951130963860365\n",
      "Epoch (950) - Current loss: 1.0012587598801346 Weights: 1.4119486435922048/1.0937793327568195\n",
      "Epoch (975) - Current loss: 0.9733745007415391 Weights: 1.420194842497404/1.092464272392307\n",
      "Epoch (1000) - Current loss: 0.9462667960151141 Weights: 1.428325405590113/1.091167653018058\n",
      "Epoch (1025) - Current loss: 0.9199140192788674 Weights: 1.4363419544224287/1.0898892160374865\n",
      "Epoch (1050) - Current loss: 0.8942951463894357 Weights: 1.4442460878075494/1.0886287064802846\n",
      "Epoch (1075) - Current loss: 0.8693897387091105 Weights: 1.4520393821386373/1.0873858729515749\n",
      "Epoch (1100) - Current loss: 0.8451779267999688 Weights: 1.459723391703215/1.08616046758177\n",
      "Epoch (1125) - Current loss: 0.8216403945721039 Weights: 1.4672996489931514/1.0849522459771397\n",
      "Epoch (1150) - Current loss: 0.79875836387334 Weights: 1.4747696650102986/1.083760967171067\n",
      "Epoch (1175) - Current loss: 0.7765135795080769 Weights: 1.4821349295678483/1.082586393575992\n",
      "Epoch (1200) - Current loss: 0.7548882946733805 Weights: 1.4893969115874544/1.0814282909360275\n",
      "Epoch (1225) - Current loss: 0.7338652568006496 Weights: 1.4965570593921962/1.0802864282802376\n",
      "Epoch (1250) - Current loss: 0.7134276937915714 Weights: 1.5036168009954298/1.0791605778765734\n",
      "Epoch (1275) - Current loss: 0.6935593006374239 Weights: 1.5105775443855907/1.0780505151864572\n",
      "Epoch (1300) - Current loss: 0.6742442264109852 Weights: 1.5174406778069995/1.076956018819996\n",
      "Epoch (1325) - Current loss: 0.6554670616207404 Weights: 1.5242075700367352/1.0758768704918324\n",
      "Epoch (1350) - Current loss: 0.63721282591724 Weights: 1.5308795706576204/1.074812854977606\n",
      "Epoch (1375) - Current loss: 0.6194669561418358 Weights: 1.5374580103273814/1.0737637600710324\n",
      "Epoch (1400) - Current loss: 0.6022152947082592 Weights: 1.5439442010440338/1.0727293765415786\n",
      "Epoch (1425) - Current loss: 0.5854440783077338 Weights: 1.5503394364075458/1.071709498092736\n",
      "Epoch (1450) - Current loss: 0.5691399269286822 Weights: 1.5566449918778331/1.0707039213208758\n",
      "Epoch (1475) - Current loss: 0.5532898331821869 Weights: 1.5628621250291352/1.0697124456746823\n",
      "Epoch (1500) - Current loss: 0.5378811519247594 Weights: 1.5689920758008253/1.0687348734151554\n",
      "Epoch (1525) - Current loss: 0.5229015901700832 Weights: 1.5750360667447023/1.0677710095761748\n",
      "Epoch (1550) - Current loss: 0.5083391972817233 Weights: 1.580995303268814/1.0668206619256138\n",
      "Epoch (1575) - Current loss: 0.4941823554389551 Weights: 1.5868709738778652/1.065883640927003\n",
      "Epoch (1600) - Current loss: 0.48041977036810796 Weights: 1.59266425041025/1.0649597597017277\n",
      "Epoch (1625) - Current loss: 0.4670404623320384 Weights: 1.5983762882717634/1.0640488339917582\n",
      "Epoch (1650) - Current loss: 0.45403375737054064 Weights: 1.6040082266660332/1.0631506821229\n",
      "Epoch (1675) - Current loss: 0.4413892787846995 Weights: 1.6095611888217225/1.0622651249685635\n",
      "Epoch (1700) - Current loss: 0.4290969388584025 Weights: 1.615036282216546/1.0613919859140353\n",
      "Epoch (1725) - Current loss: 0.4171469308103945 Weights: 1.6204345987981437/1.0605310908212584\n",
      "Epoch (1750) - Current loss: 0.40552972097047285 Weights: 1.6257572152018571/1.0596822679940994\n",
      "Epoch (1775) - Current loss: 0.39423604117355826 Weights: 1.6310051929654539/1.058845348144107\n",
      "Epoch (1800) - Current loss: 0.3832568813655856 Weights: 1.6361795787408386/1.058020164356748\n",
      "Epoch (1825) - Current loss: 0.3725834824153216 Weights: 1.641281404502798/1.0572065520581206\n",
      "Epoch (1850) - Current loss: 0.3622073291263617 Weights: 1.6463116877548143/1.056404348982128\n",
      "Epoch (1875) - Current loss: 0.35212014344374404 Weights: 1.6512714317319976/1.0556133951381197\n",
      "Epoch (1900) - Current loss: 0.34231387784974315 Weights: 1.6561616256011686/1.054833532778982\n",
      "Epoch (1925) - Current loss: 0.3327807089435943 Weights: 1.6609832446581385/1.054064606369676\n",
      "Epoch (1950) - Current loss: 0.3235130312000114 Weights: 1.6657372505222208/1.053306462556219\n",
      "Epoch (1975) - Current loss: 0.3145034509015353 Weights: 1.6704245913280138/1.0525589501350991\n",
      "Epoch (2000) - Current loss: 0.305744780239848 Weights: 1.675046201914499/1.051821920023121\n",
      "Epoch (2025) - Current loss: 0.2972300315813678 Weights: 1.6796030040114818/1.051095225227669\n",
      "Epoch (2050) - Current loss: 0.2889524118925473 Weights: 1.6840959064234227/1.0503787208173956\n",
      "Epoch (2075) - Current loss: 0.2809053173204121 Weights: 1.6885258052106855/1.0496722638933145\n",
      "Epoch (2100) - Current loss: 0.27308232792403525 Weights: 1.6928935838682493/1.048975713560299\n",
      "Epoch (2125) - Current loss: 0.2654772025527308 Weights: 1.6972001135019112/1.0482889308989862\n",
      "Epoch (2150) - Current loss: 0.258083873866891 Weights: 1.7014462530020193/1.0476117789380672\n",
      "Epoch (2175) - Current loss: 0.2508964434974837 Weights: 1.705632849214767/1.0469441226269727\n",
      "Epoch (2200) - Current loss: 0.24390917734035772 Weights: 1.7097607371110894/1.0462858288089345\n",
      "Epoch (2225) - Current loss: 0.23711650098159726 Weights: 1.713830739953189/1.045636766194434\n",
      "Epoch (2250) - Current loss: 0.2305129952502719 Weights: 1.7178436694587256/1.044996805335015\n",
      "Epoch (2275) - Current loss: 0.22409339189504973 Weights: 1.7218003259627044/1.0443658185974658\n",
      "Epoch (2300) - Current loss: 0.21785256938120123 Weights: 1.7257014985770944/1.0437436801383668\n",
      "Epoch (2325) - Current loss: 0.21178554880466033 Weights: 1.7295479653482089/1.0431302658789903\n",
      "Epoch (2350) - Current loss: 0.2058874899198769 Weights: 1.7333404934118763/1.0425254534805548\n",
      "Epoch (2375) - Current loss: 0.200153687278282 Weights: 1.73707983914644/1.0419291223198266\n",
      "Epoch (2400) - Current loss: 0.19457956647430316 Weights: 1.7407667483236073/1.0413411534650623\n",
      "Epoch (2425) - Current loss: 0.18916068049592336 Weights: 1.7444019562571855/1.0407614296522887\n",
      "Epoch (2450) - Current loss: 0.18389270617686373 Weights: 1.747986187949734/1.040189835261917\n",
      "Epoch (2475) - Current loss: 0.17877144074758872 Weights: 1.751520158237157/1.039626256295683\n",
      "Epoch (2500) - Current loss: 0.1737927984823454 Weights: 1.7550045719312692/1.0390705803539104\n",
      "Epoch (2525) - Current loss: 0.16895280743958607 Weights: 1.7584401239603646/1.0385226966130958\n",
      "Epoch (2550) - Current loss: 0.16424760629317833 Weights: 1.7618274995078105/1.0379824958038044\n",
      "Epoch (2575) - Current loss: 0.15967344125184435 Weights: 1.7651673741487002/1.03744987018888\n",
      "Epoch (2600) - Current loss: 0.1552266630644052 Weights: 1.76846041398459/1.036924713541954\n",
      "Epoch (2625) - Current loss: 0.1509037241084198 Weights: 1.7717072757763457/1.0364069211262636\n",
      "Epoch (2650) - Current loss: 0.14670117555990894 Weights: 1.774908607075125/1.0358963896737607\n",
      "Epoch (2675) - Current loss: 0.14261566464189324 Weights: 1.7780650463515268/1.0353930173645178\n",
      "Epoch (2700) - Current loss: 0.13864393194956376 Weights: 1.7811772231229246/1.0348967038064203\n",
      "Epoch (2725) - Current loss: 0.13478280884993865 Weights: 1.7842457580790196/1.0344073500151436\n",
      "Epoch (2750) - Current loss: 0.13102921495394154 Weights: 1.787271263205628/1.0339248583944134\n",
      "Epoch (2775) - Current loss: 0.12738015565887986 Weights: 1.7902543419067367/1.033449132716541\n",
      "Epoch (2800) - Current loss: 0.12383271975936122 Weights: 1.793195589124844/1.0329800781032297\n",
      "Epoch (2825) - Current loss: 0.12038407712474296 Weights: 1.796095591459617/1.0325176010066548\n",
      "Epoch (2850) - Current loss: 0.11703147644127125 Weights: 1.798954927284879/1.0320616091908064\n",
      "Epoch (2875) - Current loss: 0.11377224301708479 Weights: 1.8017741668639633/1.0316120117130905\n",
      "Epoch (2900) - Current loss: 0.11060377664836447 Weights: 1.8045538724634431/1.0311687189061969\n",
      "Epoch (2925) - Current loss: 0.1075235495448933 Weights: 1.8072945984652715/1.0307316423602118\n",
      "Epoch (2950) - Current loss: 0.1045291043134029 Weights: 1.8099968914773457/1.0303006949049864\n",
      "Epoch (2975) - Current loss: 0.10161805199706757 Weights: 1.812661290442523/1.0298757905927527\n",
      "Epoch (3000) - Current loss: 0.0987880701696073 Weights: 1.815288326746106/1.029456844680983\n",
      "Epoch (3025) - Current loss: 0.0960369010824673 Weights: 1.8178785243218212/1.0290437736154854\n",
      "Epoch (3050) - Current loss: 0.09336234986358738 Weights: 1.8204323997563152/1.028636495013742\n",
      "Epoch (3075) - Current loss: 0.09076228276635102 Weights: 1.822950462392177/1.0282349276484808\n",
      "Stopping at 3098 epoch. Improvement is less than 0.0001\n"
     ]
    }
   ],
   "source": [
    "# NOW RUN UNTIL (PROB.) CONVERGENCE\n",
    "# Run the algorithm 20000 times. While that, if the loss isn't much improving, stop the training.\n",
    "\n",
    "alpha = 0.0001 # learning rate\n",
    "N = float(len(X))\n",
    "\n",
    "prevLoss = 1000000000\n",
    "improvement = 0.0001\n",
    "\n",
    "for epoch in range(0,20000):\n",
    "    \n",
    "    gradient_a = (-2*X[0:,0:1]).T.dot( y - (W[0]*X[0:,0:1] + W[1]*X[0:,1:2]) )\n",
    "    gradient_b = -2 * np.sum( (y - (W[0]*X[0:,0:1] + W[1]*X[0:,1:2])) )\n",
    "\n",
    "    #print(\"Gradients:\\na: {0} \\nb: {1}\".format(gradient_a, gradient_b))\n",
    "    W[0] = W[0] - (alpha * gradient_a)\n",
    "    W[1] = W[1] - (alpha * gradient_b)\n",
    "\n",
    "    #print(\"Weight adjustment:\\na: {0} | {1} \\nb: {2} | {3}\".format(W[0], new_a, W[1], new_b ))\n",
    "    \n",
    "    # calculate loss\n",
    "    currentLoss = calcError(X,y,W)\n",
    "    if(epoch % 25 == 0):\n",
    "        print(\"Epoch ({0}) - Current loss: {1} Weights: {2}/{3}\".format(epoch, currentLoss,W[1],W[0]))\n",
    "    \n",
    "    if(prevLoss-currentLoss < improvement):\n",
    "        print (\"Stopping at {0} epoch. Improvement is less than {1}\".format(epoch, improvement))\n",
    "        break;\n",
    "    else:\n",
    "        prevLoss = currentLoss\n",
    "    \n",
    "    \n"
   ]
  },
  {
   "cell_type": "code",
   "execution_count": 16,
   "metadata": {
    "collapsed": false
   },
   "outputs": [
    {
     "name": "stdout",
     "output_type": "stream",
     "text": [
      "Final error:  0.0884342212259\n",
      "Weights [ 1.02787046  1.82523588]\n",
      "F(x) = 1.0278704609694465x + 1.8252358819901935 \n"
     ]
    },
    {
     "data": {
      "image/png": "[encoded data removed]",
      "text/plain": [
       "<matplotlib.figure.Figure at 0x7fb94aba4748>"
      ]
     },
     "metadata": {},
     "output_type": "display_data"
    }
   ],
   "source": [
    "# FINAL GUESS : See the result of the final model (nearly a perfect match)\n",
    "\n",
    "\n",
    "pred = W[0] * X[0:,0:1] + W[1] * X[0:,1:2]\n",
    "#pred = theta[0] * X[0:,1:2] + theta[1]\n",
    "\n",
    "\n",
    "plt.plot(X[0:,0:1], y, \"*\")\n",
    "plt.plot(X[0:,0:1], pred, \"-r\")\n",
    "\n",
    "plt.title(\"New Guess: F(x) = {0:.3F}x + {1:.3F} \".format(W[0],W[1]))\n",
    "\n",
    "print(\"Final error: \", calcError(data=X, y=y,weights=W))\n",
    "print(\"Weights\", W)\n",
    "print(\"F(x) = {0}x + {1} \".format(W[0],W[1]))"
   ]
  },
  {
   "cell_type": "code",
   "execution_count": 17,
   "metadata": {
    "collapsed": false
   },
   "outputs": [
    {
     "data": {
      "text/html": [
       "<div>\n",
       "<table border=\"1\" class=\"dataframe\">\n",
       "  <thead>\n",
       "    <tr style=\"text-align: right;\">\n",
       "      <th></th>\n",
       "      <th>X</th>\n",
       "      <th>y</th>\n",
       "      <th>y_pred</th>\n",
       "    </tr>\n",
       "  </thead>\n",
       "  <tbody>\n",
       "    <tr>\n",
       "      <th>0</th>\n",
       "      <td>0.0</td>\n",
       "      <td>2</td>\n",
       "      <td>1.825236</td>\n",
       "    </tr>\n",
       "    <tr>\n",
       "      <th>1</th>\n",
       "      <td>1.0</td>\n",
       "      <td>3</td>\n",
       "      <td>2.853106</td>\n",
       "    </tr>\n",
       "    <tr>\n",
       "      <th>2</th>\n",
       "      <td>2.0</td>\n",
       "      <td>4</td>\n",
       "      <td>3.880977</td>\n",
       "    </tr>\n",
       "    <tr>\n",
       "      <th>3</th>\n",
       "      <td>3.0</td>\n",
       "      <td>5</td>\n",
       "      <td>4.908847</td>\n",
       "    </tr>\n",
       "    <tr>\n",
       "      <th>4</th>\n",
       "      <td>4.0</td>\n",
       "      <td>6</td>\n",
       "      <td>5.936718</td>\n",
       "    </tr>\n",
       "    <tr>\n",
       "      <th>5</th>\n",
       "      <td>5.0</td>\n",
       "      <td>7</td>\n",
       "      <td>6.964588</td>\n",
       "    </tr>\n",
       "    <tr>\n",
       "      <th>6</th>\n",
       "      <td>6.0</td>\n",
       "      <td>8</td>\n",
       "      <td>7.992459</td>\n",
       "    </tr>\n",
       "    <tr>\n",
       "      <th>7</th>\n",
       "      <td>7.0</td>\n",
       "      <td>9</td>\n",
       "      <td>9.020329</td>\n",
       "    </tr>\n",
       "    <tr>\n",
       "      <th>8</th>\n",
       "      <td>8.0</td>\n",
       "      <td>10</td>\n",
       "      <td>10.048200</td>\n",
       "    </tr>\n",
       "    <tr>\n",
       "      <th>9</th>\n",
       "      <td>9.0</td>\n",
       "      <td>11</td>\n",
       "      <td>11.076070</td>\n",
       "    </tr>\n",
       "  </tbody>\n",
       "</table>\n",
       "</div>"
      ],
      "text/plain": [
       "     X   y     y_pred\n",
       "0  0.0   2   1.825236\n",
       "1  1.0   3   2.853106\n",
       "2  2.0   4   3.880977\n",
       "3  3.0   5   4.908847\n",
       "4  4.0   6   5.936718\n",
       "5  5.0   7   6.964588\n",
       "6  6.0   8   7.992459\n",
       "7  7.0   9   9.020329\n",
       "8  8.0  10  10.048200\n",
       "9  9.0  11  11.076070"
      ]
     },
     "execution_count": 17,
     "metadata": {},
     "output_type": "execute_result"
    }
   ],
   "source": [
    "# Result overview\n",
    "results = pd.DataFrame({'X':X[0:,0:1].reshape(len(X)), 'y':y.reshape(len(y)), 'y_pred':pred.reshape(len(pred))})\n",
    "results"
   ]
  },
  {
   "cell_type": "code",
   "execution_count": null,
   "metadata": {
    "collapsed": true
   },
   "outputs": [],
   "source": []
  }
 ],
 "metadata": {
  "kernelspec": {
   "display_name": "Python 3",
   "language": "python",
   "name": "python3"
  },
  "language_info": {
   "codemirror_mode": {
    "name": "ipython",
    "version": 3
   },
   "file_extension": ".py",
   "mimetype": "text/x-python",
   "name": "python",
   "nbconvert_exporter": "python",
   "pygments_lexer": "ipython3",
   "version": "3.5.2"
  }
 },
 "nbformat": 4,
 "nbformat_minor": 1
}
