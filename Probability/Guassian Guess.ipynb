{
 "cells": [
  {
   "cell_type": "markdown",
   "metadata": {},
   "source": [
    "# Gaussian Guessing Game\n",
    "\n",
    "## Introduction\n",
    "\n",
    "There are two cards in front of the players. Each card has a number written on its backside and therefore,\n",
    "is invisible to the players. The range of the numbers has to be defined beforehand (e.g. -100 to +100), \n",
    "but the players doesn't necessarily need to know it. The numbers on both cards have to be unequal \n",
    "(both cards can't have the same number on the backside)!\n",
    "\n",
    "At game start, one card will be turned and one has to guess if the number on the back of the other card\n",
    "is higher or lower than the revealed value.\n",
    "\n",
    "<pre>\n",
    "~~~~~~~~~~~FIRST CARD~~~~~~~~~~~~~~~~~CARD TO GUESS~~~~~~~~~~~~~\n",
    "~~~~~~~~~~~~~~~~~~~~~~~~~~~~~~~~~~~~~~~~~~~~~~~~~~~~~~~~~~~~~~~~\n",
    "~~~~~~~~~OOOOOOOOOOOOOOO=~~~~~~~~~~~~OOOOOOOOOOOOOOO~~~~~~~~~~~~\n",
    "~~~~~~~~~O,,,,,,,,,,,,,O=~~~~~~~~~~~~O,,,,,,,,,,,,,O~~~~~~~~~~~~\n",
    "~~~~~~~~~O,,,,,XXX,,,,,O=~~~~~~~~~~~~O,,XXX,,,,,,,,O~~~~~~~~~~~~\n",
    "~~~~~~~~~O,,,,,XXX,,,,,O=~~~~~~~~~~~~O,,XXX,,,,,,,,O~~~~~~~~~~~~\n",
    "~~~~~~~~~O,,,,,XXX,,,,,O=~~~~~~~~~~~~O,,XXX,,,,,,,,O~~~~~~~~~~~~\n",
    "~~~~~~~~~O,,,,,XXX,,,,,O~~~~~~~~~~~~~O,,XXX,,XXX,,,O~~~~~~~~~~~~\n",
    "~~~~~~~~~O,,,,,XXX,,,,,O~~~~~~~~~~~~~O,,XXX,,XXX,,,O~~~~~~~~~~~~\n",
    "~~~~~~~~~O,,,,,XXX,,,,,O~~~~~~~~~~~~~O,,XXXXXXXXXX,O~~~~~~~~~~~~\n",
    "~~~~~~~~~O,,,,:XXX,,,,,O~~~~~~~~~~~~~O,,XXXXXXXXXX,O~~~~~~~~~~~~\n",
    "~~~~~~~~~O,,,,,XXX,,,,,O~~~~~~~~~~~~~O,,,,,,,XXX,,,O~~~~~~~~~~~~\n",
    "~~~~~~~~~O,,,,,XXX,,,,,O~~~~~~~~~~~~~O,,,,,,,XXX,,,O~~~~~~~~~~~~\n",
    "~~~~~~~~~O,,,,,XXX,,,,,O~~~~~~~~~~~~~O,,,,,,,XXX,,,O~~~~~~~~~~~~\n",
    "~~~~~~~~~O,,,,,,,,,,,,,O~~~~~~~~~~~~~O,,,,,,,,,,,,,O~~~~~~~~~~~~\n",
    "~~~~~~~~~OOOOOOOOOOOOOOO~~~~~~~~~~~~~OOOOOOOOOOOOOOO~~~~~~~~~~~~\n",
    "~~~~~~~~~~~~~~~~~~~~~~~~:~~~~~~~~~~~~:~~~~~~~~~~~~:~~~~~~~~~~~~~\n",
    "</pre>\n",
    "\n",
    "The idea behind this notebook is to run several simulations, each using different methods on how to play this game and \n",
    "most importantly to show that this is not a fifty fifty chance game.\n",
    "\n",
    "\n",
    "## Explanation to Prove\n",
    "\n",
    "Source: https://www.youtube.com/watch?v=ud_frfkt1t0\n",
    "\n"
   ]
  },
  {
   "cell_type": "code",
   "execution_count": 1,
   "metadata": {
    "collapsed": false
   },
   "outputs": [],
   "source": [
    "import time\n",
    "import numpy.random as rnd;\n",
    "\n",
    "from IPython.display import clear_output\n",
    "from enum import Enum;\n"
   ]
  },
  {
   "cell_type": "code",
   "execution_count": 2,
   "metadata": {
    "collapsed": true
   },
   "outputs": [],
   "source": [
    "class MODE(Enum):\n",
    "    \"\"\"\n",
    "    Simulation modes\n",
    "    \"\"\"\n",
    "    RANDOM = 0,\n",
    "    HIGHER = 1,\n",
    "    GAUSSIAN = 2,\n",
    "    ADV_GAUSSIAN = 3;\n"
   ]
  },
  {
   "cell_type": "code",
   "execution_count": 3,
   "metadata": {
    "collapsed": true
   },
   "outputs": [],
   "source": [
    "class GaussianGuess(object):\n",
    "    \n",
    "    def __init__(self, pGuessRange):\n",
    "        self.numberA = 0;\n",
    "        self.numberB = 0;\n",
    "        self.guessRange = pGuessRange;\n",
    "        self.iterations = 0;\n",
    "        self.correctlyGuessed = 0;\n",
    "        self.result = 0;\n",
    "        "
   ]
  },
  {
   "cell_type": "code",
   "execution_count": 4,
   "metadata": {
    "collapsed": true
   },
   "outputs": [],
   "source": [
    "class GaussianGuess(object):\n",
    "    \n",
    "    def __init__(self, pGuessRange, pIterations=1000):\n",
    "        self.numberA = 0;\n",
    "        self.numberB = 0;\n",
    "        self.guessRange = pGuessRange;\n",
    "        self.iterations = pIterations;\n",
    "        self.correctlyGuessed = 0;\n",
    "        self.result = 0;\n",
    "        \n",
    "    \n",
    "    def clearResults(self):\n",
    "        self.numberA = 0;\n",
    "        self.numberB = 0;\n",
    "        self.correctlyGuessed = 0;\n",
    "        self.result = 0;\n",
    "        \n",
    "    \n",
    "    def runRandomGuess(self):\n",
    "        LOWER = 0;\n",
    "        HIGHER = 1;\n",
    "        \n",
    "        print(\"Starting Random guess \");\n",
    "        \n",
    "        \n",
    "        for i in range(1,self.iterations+1):\n",
    "            clear_output(wait=True); # make sure to write results on the same line\n",
    "            \n",
    "            # Guess 2 Numbers \n",
    "            self.numberA = rnd.random_integers(self.guessRange[0],self.guessRange[1]);\n",
    "            self.numberB = rnd.random_integers(self.guessRange[0],self.guessRange[1]);\n",
    "            # ensure both numbers are different\n",
    "            while self.numberB == self.numberA:\n",
    "                self.numberB = rnd.random_integers(self.guessRange[0],self.guessRange[1]);\n",
    "\n",
    "\n",
    "            # randomly guess if numberB is higher or lower\n",
    "            chosenGuess = rnd.random_integers(LOWER,HIGHER);\n",
    "\n",
    "            # guessing that numberB is lower\n",
    "            if chosenGuess == LOWER:\n",
    "                if self.numberA > self.numberB:\n",
    "                    self.correctlyGuessed+=1;\n",
    "            # guessing that numberB is higher\n",
    "            elif chosenGuess == HIGHER: \n",
    "                if self.numberA < self.numberB:\n",
    "                    self.correctlyGuessed+=1;\n",
    "            else:\n",
    "                    print(\"ERROR: Something is wrong with the random generator.\");\n",
    "                    return;\n",
    "\n",
    "\n",
    "            # calculate current result: percentage of correct guesses\n",
    "            self.result = self.correctlyGuessed*100/i;\n",
    "            print(\"Iterations: {0}/{1} | Won: {2}%\".format(i, self.iterations, self.result));\n",
    "\n",
    "    def runHigherGuess(self):\n",
    "        print(\"Starting Higher guess \");\n",
    "        \n",
    "        for i in range(1,self.iterations+1):\n",
    "            clear_output(wait=True); # make sure to write results on the same line\n",
    "            \n",
    "            # Guess 2 Numbers \n",
    "            self.numberA = rnd.random_integers(self.guessRange[0],self.guessRange[1]);\n",
    "            self.numberB = rnd.random_integers(self.guessRange[0],self.guessRange[1]);\n",
    "            \n",
    "            # ensure both numbers are different\n",
    "            while self.numberB == self.numberA:\n",
    "                self.numberB = rnd.random_integers(self.guessRange[0],self.guessRange[1]);\n",
    "\n",
    "            # guess that numberB is always greater\n",
    "            if self.numberA < self.numberB:\n",
    "                self.correctlyGuessed+=1;\n",
    "\n",
    "\n",
    "            # calculate current result: percentage of correct guesses\n",
    "            self.result = self.correctlyGuessed*100/i;\n",
    "            print(\"Iterations: {0}/{1} | Won: {2}%\".format(i, self.iterations, self.result));\n",
    "        \n",
    "        \n",
    "    def runGaussianGuess(self):\n",
    "       \n",
    "        # k ist the number on which our guess is based\n",
    "        # choosing k\n",
    "        k = rnd.random_integers(self.guessRange[0],self.guessRange[1]);\n",
    "        print(\"Starting Gaussian guess using k={0}\".format(k));\n",
    "        \n",
    "        \n",
    "        for i in range(1,self.iterations+1):\n",
    "            clear_output(wait=True); # make sure to write results on the same line\n",
    "            \n",
    "            # Guess 2 Numbers \n",
    "            self.numberA = rnd.random_integers(self.guessRange[0],self.guessRange[1]);\n",
    "            self.numberB = rnd.random_integers(self.guessRange[0],self.guessRange[1]);\n",
    "            # ensure both numbers are different\n",
    "            while self.numberB == self.numberA:\n",
    "                self.numberB = rnd.random_integers(self.guessRange[0],self.guessRange[1]);\n",
    "\n",
    "            # compare numberA with k\n",
    "            if self.numberA > k:\n",
    "                if self.numberA > self.numberB:\n",
    "                    self.correctlyGuessed+=1;\n",
    "            elif self.numberA < k:\n",
    "                if self.numberA < self.numberB:\n",
    "                    self.correctlyGuessed+=1;\n",
    "\n",
    "\n",
    "            # calculate current result: percentage of correct guesses\n",
    "            self.result = self.correctlyGuessed*100/i;\n",
    "            print(\"Iterations: {0}/{1} | Won: {2}%\".format(i, self.iterations, self.result));\n",
    "\n",
    "    \n",
    "    def runAdaptiveGaussianGuess(self):\n",
    "        \"\"\"\n",
    "        Gaussian guess with an adaptive k. Remember lowest and highest value\n",
    "        that appeared through the iterations and calculate k out of it. \n",
    "        \"\"\"\n",
    "        \n",
    "        # k ist the number on which our guess is based\n",
    "        # starting with k = 0\n",
    "        k = 0\n",
    "        guessBoundaries = [-1, 1];\n",
    "        print(\"Starting adaptive Gaussian guess starting k={0}\".format(k));\n",
    "        \n",
    "        \n",
    "    \n",
    "        for i in range(1,self.iterations+1):\n",
    "            clear_output(wait=True); # make sure to write results on the same line\n",
    "            \n",
    "            # Guess 2 Numbers \n",
    "            self.numberA = rnd.random_integers(self.guessRange[0],self.guessRange[1]);\n",
    "            self.numberB = rnd.random_integers(self.guessRange[0],self.guessRange[1]);\n",
    "\n",
    "            # analyse new values to determine potential new boundaries\n",
    "            if self.numberA > guessBoundaries[1]:\n",
    "                guessBoundaries[1] = self.numberA;\n",
    "            elif self.numberA < guessBoundaries[0]:\n",
    "                guessBoundaries[0] = self.numberA;\n",
    "\n",
    "            if self.numberB > guessBoundaries[1]:\n",
    "                guessBoundaries[1] = self.numberB;\n",
    "            elif self.numberB < guessBoundaries[0]:\n",
    "                guessBoundaries[0] = self.numberB;\n",
    "\n",
    "            # calculate potential new k value\n",
    "            if (guessBoundaries[0]+guessBoundaries[1]) is not 0: # prevent division by 0\n",
    "                k = (guessBoundaries[0]+guessBoundaries[1])/2;\n",
    "            else:\n",
    "                k = 0 \n",
    "\n",
    "            # ensure both numbers are different\n",
    "            while self.numberB == self.numberA:\n",
    "                self.numberB = rnd.random_integers(self.guessRange[0],self.guessRange[1]);\n",
    "\n",
    "            # compare numberA with k\n",
    "            if self.numberA > k:\n",
    "                if self.numberA > self.numberB:\n",
    "                    self.correctlyGuessed+=1;\n",
    "            elif self.numberA < k:\n",
    "                if self.numberA < self.numberB:\n",
    "                    self.correctlyGuessed+=1;\n",
    "\n",
    "\n",
    "            # calculate current result: percentage of correct guesses\n",
    "            self.result = self.correctlyGuessed*100/i;\n",
    "            print(\"Iterations: {0}/{1} | Won: {2}%\".format(i, self.iterations, self.result));\n",
    "            \n",
    "\n",
    "    def runSimulation(self, pMode):\n",
    "                \n",
    "        if pMode is MODE.RANDOM:\n",
    "            self.runRandomGuess();\n",
    "        elif pMode is MODE.HIGHER:\n",
    "            self.runHigherGuess();\n",
    "        elif pMode is MODE.GAUSSIAN:\n",
    "            self.runGaussianGuess();\n",
    "        elif pMode is MODE.ADV_GAUSSIAN:\n",
    "            self.runAdaptiveGaussianGuess();\n",
    "        else:\n",
    "            print(\"ERROR: Unknown mode\");\n",
    "            return;\n",
    "        \n",
    "        print(\"Done!\");\n"
   ]
  },
  {
   "cell_type": "code",
   "execution_count": 5,
   "metadata": {
    "collapsed": false
   },
   "outputs": [],
   "source": [
    "# Numerical range for numberA and numberB\n",
    "guessRange = [-967,1000]; # range of card values\n",
    "timesToRun = 5000 # amount of iterations that the game should be played \n",
    "simulation = GaussianGuess(guessRange,pIterations=timesToRun);\n",
    "\n",
    "# Modes: RANDOM / HIGHER / GAUSSIAN / ADV_GAUSSIAN  \n"
   ]
  },
  {
   "cell_type": "code",
   "execution_count": 6,
   "metadata": {
    "collapsed": false
   },
   "outputs": [
    {
     "name": "stdout",
     "output_type": "stream",
     "text": [
      "Iterations: 5000/5000 | Won: 50.62%\n",
      "Done!\n"
     ]
    }
   ],
   "source": [
    "# GUESSING RANDOMLY\n",
    "simulation.runSimulation(MODE.RANDOM);\n",
    "simulation.clearResults();\n"
   ]
  },
  {
   "cell_type": "code",
   "execution_count": 7,
   "metadata": {
    "collapsed": false
   },
   "outputs": [
    {
     "name": "stdout",
     "output_type": "stream",
     "text": [
      "Iterations: 5000/5000 | Won: 50.64%\n",
      "Done!\n"
     ]
    }
   ],
   "source": [
    "# ALWAYS PREDICTING IT TO BE HIGHER\n",
    "simulation.runSimulation(MODE.HIGHER);\n",
    "simulation.clearResults();\n"
   ]
  },
  {
   "cell_type": "code",
   "execution_count": 8,
   "metadata": {
    "collapsed": false
   },
   "outputs": [
    {
     "name": "stdout",
     "output_type": "stream",
     "text": [
      "Iterations: 5000/5000 | Won: 72.92%\n",
      "Done!\n"
     ]
    }
   ],
   "source": [
    "# GUESSING USING A FIXED NUMBER IN MIND\n",
    "simulation.runSimulation(MODE.GAUSSIAN);\n",
    "simulation.clearResults();\n",
    "\n"
   ]
  },
  {
   "cell_type": "code",
   "execution_count": 9,
   "metadata": {
    "collapsed": false
   },
   "outputs": [
    {
     "name": "stdout",
     "output_type": "stream",
     "text": [
      "Iterations: 5000/5000 | Won: 75.1%\n",
      "Done!\n"
     ]
    }
   ],
   "source": [
    "# GUESSING USING A FIXED NUMBER IN MIND AND ADAPTING TO THE NUMBER RANGE\n",
    "# Since the range is unknown keep track on the highest and lowest value that occured\n",
    "# Then, take the mean of both numbers ( [lower range] + [higher range] / 2 )\n",
    "simulation.runSimulation(MODE.ADV_GAUSSIAN);\n",
    "simulation.clearResults();"
   ]
  }
 ],
 "metadata": {
  "kernelspec": {
   "display_name": "Python 3",
   "language": "python",
   "name": "python3"
  },
  "language_info": {
   "codemirror_mode": {
    "name": "ipython",
    "version": 3
   },
   "file_extension": ".py",
   "mimetype": "text/x-python",
   "name": "python",
   "nbconvert_exporter": "python",
   "pygments_lexer": "ipython3",
   "version": "3.5.2"
  }
 },
 "nbformat": 4,
 "nbformat_minor": 1
}
