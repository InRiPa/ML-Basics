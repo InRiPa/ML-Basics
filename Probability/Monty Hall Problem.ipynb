{
 "cells": [
  {
   "cell_type": "markdown",
   "metadata": {},
   "source": [
    "# Monty Hall Problem\n",
    "\n",
    "## Introduction\n",
    "\n",
    "There are 3 doors. Two contain a goat each while the third door contains a car. \n",
    "\n",
    "<pre>\n",
    "MMMMMMMMMMMMMMD,,MMMMMMMMMMMMMMMMMMMMMMMMMMMMMMMMMONMMMMMMMMMMMMMMMMMMMMMM,,MMMMMMMMMMMMMMMM\n",
    "MMMMMMMMMMMM????IMMMMMMMMMMMMMMMMMMMMMMMMMMMMOOOODMO8O8OO8MMMMMMMMMMMMM???MMMMMMMMMMMMMMMMMM\n",
    "MMMMMMMMM,,M????NMMMMM$MMMMMMMMMMMMMMMMMMM?$ZMOOOOMMM8888N MMMMMMMMM,,M?~??MMMMMM8MMMMMMMMMM\n",
    "MMMMMMMMMMM??????MMMMM?MMMMMMMMMMMMMMM7$Z7$$ZO88DMMN8888M,NMMMMMMMMMMM7????7MMMMM?MMMMMMMMMM\n",
    "MMMMMMMMMM?MM.?8??????MMMMMMMMMMMMMMMNOOOZZ$ZOO8OO8888OD,$MMMMMMMMMMM?MMZ?8??????,MMMMMMMMMM\n",
    "MMMMMMMMMMMMM?,????????MMMMMMMMMMMMMNOOZZZOOOOON888DDNMMMMMMMMMMMMMMMMMMD,~???????MMMMMMMMMM\n",
    "MMMMMMMMMMMMMM,???,???MMMMMMMMMMMMMMMNZZO8DNNO??MDDMMMMMMMMMMMMMMMMMMMMMM++??,???MMMMMMMMMMM\n",
    "MMMMMMMMMMMMMMMM?MM???MMMMMMMMMMMMMMMMNNDDN888M:MMMMMMMMMMMMMMMMMMMMMMMMM7O?M$?7?MMMMMMMMMMM\n",
    "MMMMMMMMMMMMMM?M?MM??MMMMMMMMMMMMMMMMMMMMDD888M:NMMMMMMMMMMMMMMMMMMMMMMMM?M?MM??MMMMMMMMMMMM\n",
    "MMMMMMMMMMMMMMMMMMMMMMMMMMMMMMMMMMMMMMMMMMMMMMMMMMMMMMMMMMMMMMMMMMMMMMMMMMMMMMMMMMMMMMMMMMMM\n",
    "MMMMMMI:~~~~~~~~~~~~~~~~~~~~=MMMMMMI~~~~~~~~~~~~~~~~~~~~~MMMMMMM:~~~~~~~~~~~~~~~~~~~~~MMMMMM\n",
    "MMMMMM7~~~I~~~~~~~7+~~~~~M~~=MMMMMM7~~ZIII~~~~~II7+~~~~~~MMMMMMM:~~M?~~~~~~~I=~~~~~~~~MMMMMM\n",
    "MMMMMM$~~~~~~~~~~~7~~~~~~M~~=MMMMMM$~~Z~~~~~~~~I~~~~~~~~~MMMMMMM:~~M~~~~~~~~I~~~~~~~~~MMMMMM\n",
    "MMMMMM$~~~~~~~~~~~I~~~~~~M~~=MMMMMM$~~Z~~~~~~~~7~~~~~~~~~MMMMMMM:~~M~~~~~~~~7~~~~~~~~~MMMMMM\n",
    "MMMMMMZ~~~~~~~~~~~7~~~=~~M~~IMMMMMMZ~~Z~~~~~~:~7~~~~+~~~~MMMMMMM:~~M~~~~~~:~+~~~M~~~~~MMMMMM\n",
    "MMMMMMO~~~~~~~~~~~7~~~=~~M~~7MMMMMMO~~Z~~~~~~:~I~~O~~~~~~MMMMMMM:~~M~~~~~~:~~~~~M~~~~~MMMMMM\n",
    "MMMMMM8~~~~~~~~~:~7~~~~~~M~~7MMMMMM8~~Z~~~~~~:~~~~~~~~~~~MMMMMMM:~~M~~~~~~:~~~~~~~~~~~MMMMMM\n",
    "MMMMMMD~~~~~~~~~:~?~~~~~~M~~7MMMMMMD~~Z~~~~~~:~~~~~~~~~~~MMMMMMM:~~M~~~~~~:~~~~~~~:~~~MMMMMM\n",
    "MMMMMMN~~~~::::::~~::::::M++7MMMMMMN~~Z~~:::::~~~:::::O+=MMMMMMM,~~M:::::::~~::::::++=MMMMMM\n",
    "MMMMMMM~~~~~~~~~~~~~~~~~~~=+7MMMMMMM~~~~~~~~~~~~~~~~~~O?+MMMMMMM,~~~~~~~~~~~~~~~~~~+O+MMMMMM\n",
    "MMMMMMM~~~~~~~~~~~7~~~~~~MII7MMMMMMM~~~~~~~~~~~I~~~~~~O++MMMMMMM,~~$~~~~~~~~I~~~~~~IIIMMMMMM\n",
    "MMMMMMM~~~~~~~~~~~7~~~~~~M~~7MMMMMMM~~=~~~~~~~~I~~~~~~~~~MMMMMMM,~~Z~~~~~~~~I~~~~~~~~~MMMMMM\n",
    "MMMMMMM~~~~~~~~~~~7~~~~~~M~~7MMMMMMM~~=~~~~~~~~I~~~~~~~~~MMMMMMM,~~Z~~~~~~:~I~~~~~~~~~MMMMMM\n",
    "MMMMMMM~~~~~~~~~~~7~~~~~~M~~7MMMMMMM~~=~~~~~~:~7~~~~~~~~~MMMMMMM:~~O~~~~~~:~~~~~~~~~~~MMMMMM\n",
    "MMMMMMM~~~~~~~~~:~I~~~~~~M~~7MMMMMMM~~=~~~~~~:~=~~~~~~~~~MMMMMMM:~~D~~~~~~:~~~~~~~~~~~MMMMMM\n",
    "MMMMMMM~~~~~~~~~:~7~~~~~~M~~7MMMMMMM~~=~~~~~~:~~~~~~~~~~~MMMMMMM~~~N~~~~~~:~~~~~~~:~~~MMMMMM\n",
    "MMMMMMM~~~~~~~~~:~=~~~~~~M~~7MMMMMMM~~=~~~~~~:~~~~~~~:~~~MMMMMMM~~~M~~~~~~:~~~~~~~:~~~MMMMMM\n",
    "MMMMMMM~~~~~~~~~~~~~~~~~~~~~7MMMMMMM~~~~~~~~~~~~~~~~~~~~~MMMMMMM~~~~~~~~~~~~~~~~~~~~~=MMMMMM\n",
    "</pre>\n",
    "\n",
    "The idea behind this notebook is to run a simulation that proves that switching the door after the \n",
    "a goat door was opened results in a more favorable outcome for the candidate.\n",
    "\n",
    "## Prove Of Concept\n",
    "\n",
    "The key point is that it is more probable to pick a goat at the initial guess than the price. So when\n",
    "the moderator narrows it down to just two doors it is more likely that the second door contains the price.\n",
    "Think about 100 doors in the initial state and after picking a door (99/100 chance to pick a goat door) it again gets narrowed down to just two doors. Since it is highly likely that you picked a goat door, you should switch.\n"
   ]
  },
  {
   "cell_type": "code",
   "execution_count": 1,
   "metadata": {
    "collapsed": false
   },
   "outputs": [],
   "source": [
    "import pandas as pd\n",
    "import numpy as np\n",
    "import random\n",
    "import time\n",
    "import matplotlib.pyplot as plt\n",
    "import concurrent.futures # used for threading the result\n",
    "\n",
    "%matplotlib inline\n",
    "from IPython.display import clear_output # enable one line writing"
   ]
  },
  {
   "cell_type": "code",
   "execution_count": 2,
   "metadata": {
    "collapsed": false
   },
   "outputs": [],
   "source": [
    "\n",
    "def run_Game(rounds=10000, amountDoors=3):\n",
    "\n",
    "    rand = random.Random()\n",
    "    rand.seed(int(time.time()))\n",
    "    results = pd.DataFrame( columns=['Doors', 'Choice']);\n",
    "\n",
    "\n",
    "    #rounds = 10000 # how many games should be played in this simulation\n",
    "    #amountDoors = 100\n",
    "\n",
    "    for round in range(1,rounds+1): # 2000 trials\n",
    "\n",
    "        # reset game / New game\n",
    "        doorField = []\n",
    "        for door in range(0,amountDoors):\n",
    "            doorField.append(0);\n",
    "        doors = np.array(doorField) # list of gates with various prices (0=goat / 1=price)\n",
    "        price = rand.randrange(start=1, stop=amountDoors+1) # price gate\n",
    "        doors[price-1] = 1 # put price behind the gate\n",
    "        method_stubborn = 0;\n",
    "        method_switcher = 0;\n",
    "\n",
    "        # choose a door\n",
    "        choice = rand.randrange(start=1, stop=amountDoors+1) # choose a gate\n",
    "\n",
    "        # open one goat door\n",
    "        for door in range(1,len(doors)+1):\n",
    "            if(doors[door-1] == 0 and door != choice):\n",
    "                doors[door-1] = 2 # mark as opened ('2')\n",
    "                #break;\n",
    "\n",
    "        # stubborn player keeps his chosen door\n",
    "        # while the switcher whould take the other one\n",
    "        if(doors[choice-1] == 1 ):\n",
    "            method_stubborn = 1; # stubborn stayed with winning door\n",
    "            method_switcher = 0; # switcher switched from winning door \n",
    "        else:\n",
    "            method_stubborn = 0; # stubborn stayed with losing door\n",
    "            method_switcher = 1; # switcher switched to winning door \n",
    "\n",
    "\n",
    "        currentResult = pd.DataFrame([[doors,choice, method_stubborn, method_switcher]], columns=['Doors', 'Choice', 'Stubborn', 'Switcher'])\n",
    "        results = results.append(currentResult, ignore_index=True)\n",
    "        \n",
    "\n",
    "    \n",
    "    stubborn = results.Stubborn.sum() / results.shape[0]*100\n",
    "    switcher = results.Switcher.sum() / results.shape[0]*100\n",
    "    return pd.DataFrame([[amountDoors, rounds, stubborn, switcher]], columns=['Doors', 'Runs', 'Stubborn', 'Switcher'])"
   ]
  },
  {
   "cell_type": "code",
   "execution_count": null,
   "metadata": {
    "collapsed": false
   },
   "outputs": [],
   "source": [
    "\n",
    "# Create Future / Executor to thread the game simulations\n",
    "gameRounds = 10000\n",
    "maxDoors = 50\n",
    "executor = concurrent.futures.ProcessPoolExecutor(4)\n",
    "futures = [executor.submit(run_Game, gameRounds, numDoors) for numDoors in range(3,maxDoors)]\n",
    "concurrent.futures.wait(futures)\n",
    "\n",
    "# Generate final result dataframe\n",
    "gameResult = pd.DataFrame();\n",
    "for result in futures:\n",
    "    gameResult = gameResult.append(result.result(), ignore_index=True);\n",
    "print(\"Amount of gathered game results: {0}\".format(gameResult.size))"
   ]
  },
  {
   "cell_type": "code",
   "execution_count": null,
   "metadata": {
    "collapsed": false
   },
   "outputs": [],
   "source": [
    "gameResult.to_pickle(path=\"./MontyHall_resultDF.pkl\")"
   ]
  },
  {
   "cell_type": "code",
   "execution_count": 3,
   "metadata": {
    "collapsed": true
   },
   "outputs": [],
   "source": [
    "gameResult = pd.read_pickle(path=\"./MontyHall_resultDF.pkl\")"
   ]
  },
  {
   "cell_type": "code",
   "execution_count": 7,
   "metadata": {
    "collapsed": false
   },
   "outputs": [
    {
     "data": {
      "text/plain": [
       "<matplotlib.text.Text at 0x7f6688c0eeb8>"
      ]
     },
     "execution_count": 7,
     "metadata": {},
     "output_type": "execute_result"
    },
    {
     "data": {
      "image/png": "[encoded data removed]",
      "text/plain": [
       "<matplotlib.figure.Figure at 0x7f6688c1b7f0>"
      ]
     },
     "metadata": {},
     "output_type": "display_data"
    }
   ],
   "source": [
    "\n",
    "#fig.plot(gameResult.Doors, gameResult.Switcher)\n",
    "\n",
    "plt.subplot(111)\n",
    "plt.plot(gameResult.Doors, gameResult.Switcher)\n",
    "plt.title('Winning Percentage based on Amount of Doors used Ingame ')\n",
    "plt.ylabel('Percentage of Wins ')\n",
    "plt.xlabel('Amount of doors used in game')\n",
    "\n"
   ]
  }
 ],
 "metadata": {
  "kernelspec": {
   "display_name": "Python 3",
   "language": "python",
   "name": "python3"
  },
  "language_info": {
   "codemirror_mode": {
    "name": "ipython",
    "version": 3
   },
   "file_extension": ".py",
   "mimetype": "text/x-python",
   "name": "python",
   "nbconvert_exporter": "python",
   "pygments_lexer": "ipython3",
   "version": "3.5.2"
  }
 },
 "nbformat": 4,
 "nbformat_minor": 1
}
